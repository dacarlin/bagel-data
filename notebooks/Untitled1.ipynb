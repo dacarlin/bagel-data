{
 "cells": [
  {
   "cell_type": "code",
   "execution_count": 7,
   "metadata": {
    "collapsed": false
   },
   "outputs": [
    {
     "data": {
      "text/html": [
       "<div>\n",
       "<table border=\"1\" class=\"dataframe\">\n",
       "  <thead>\n",
       "    <tr style=\"text-align: right;\">\n",
       "      <th></th>\n",
       "      <th>y</th>\n",
       "      <th>km</th>\n",
       "      <th>ekm</th>\n",
       "      <th>kcat</th>\n",
       "      <th>ekcat</th>\n",
       "      <th>ki</th>\n",
       "      <th>eki</th>\n",
       "      <th>kcatkm</th>\n",
       "      <th>ekcatkm</th>\n",
       "    </tr>\n",
       "    <tr>\n",
       "      <th>name</th>\n",
       "      <th></th>\n",
       "      <th></th>\n",
       "      <th></th>\n",
       "      <th></th>\n",
       "      <th></th>\n",
       "      <th></th>\n",
       "      <th></th>\n",
       "      <th></th>\n",
       "      <th></th>\n",
       "    </tr>\n",
       "  </thead>\n",
       "  <tbody>\n",
       "    <tr>\n",
       "      <th>N163C</th>\n",
       "      <td>1.10</td>\n",
       "      <td>5.42</td>\n",
       "      <td>0.32</td>\n",
       "      <td>26</td>\n",
       "      <td>1</td>\n",
       "      <td>NaN</td>\n",
       "      <td>NaN</td>\n",
       "      <td>4766</td>\n",
       "      <td>291</td>\n",
       "    </tr>\n",
       "    <tr>\n",
       "      <th>W399C</th>\n",
       "      <td>0.93</td>\n",
       "      <td>70.33</td>\n",
       "      <td>5.89</td>\n",
       "      <td>3</td>\n",
       "      <td>1</td>\n",
       "      <td>NaN</td>\n",
       "      <td>NaN</td>\n",
       "      <td>39</td>\n",
       "      <td>4</td>\n",
       "    </tr>\n",
       "    <tr>\n",
       "      <th>Q19C</th>\n",
       "      <td>0.40</td>\n",
       "      <td>NaN</td>\n",
       "      <td>NaN</td>\n",
       "      <td>NaN</td>\n",
       "      <td>NaN</td>\n",
       "      <td>NaN</td>\n",
       "      <td>NaN</td>\n",
       "      <td>1</td>\n",
       "      <td>0</td>\n",
       "    </tr>\n",
       "    <tr>\n",
       "      <th>W325C</th>\n",
       "      <td>0.22</td>\n",
       "      <td>4.18</td>\n",
       "      <td>0.53</td>\n",
       "      <td>10</td>\n",
       "      <td>1</td>\n",
       "      <td>159.19</td>\n",
       "      <td>34.38</td>\n",
       "      <td>2503</td>\n",
       "      <td>327</td>\n",
       "    </tr>\n",
       "  </tbody>\n",
       "</table>\n",
       "</div>"
      ],
      "text/plain": [
       "          y     km   ekm  kcat  ekcat      ki    eki  kcatkm  ekcatkm\n",
       "name                                                                 \n",
       "N163C  1.10   5.42  0.32    26      1     NaN    NaN    4766      291\n",
       "W399C  0.93  70.33  5.89     3      1     NaN    NaN      39        4\n",
       "Q19C   0.40    NaN   NaN   NaN    NaN     NaN    NaN       1        0\n",
       "W325C  0.22   4.18  0.53    10      1  159.19  34.38    2503      327"
      ]
     },
     "execution_count": 7,
     "metadata": {},
     "output_type": "execute_result"
    }
   ],
   "source": [
    "import pandas \n",
    "\n",
    "df = pandas.read_csv( '../clean_data/clean_for_pandas.csv', index_col='name' ) \n",
    "df.index.str[-1]\n",
    "df[ ( df.index.str[-1] == 'C' ) ] "
   ]
  },
  {
   "cell_type": "code",
   "execution_count": null,
   "metadata": {
    "collapsed": true
   },
   "outputs": [],
   "source": []
  }
 ],
 "metadata": {
  "kernelspec": {
   "display_name": "Python 2",
   "language": "python",
   "name": "python2"
  },
  "language_info": {
   "codemirror_mode": {
    "name": "ipython",
    "version": 2
   },
   "file_extension": ".py",
   "mimetype": "text/x-python",
   "name": "python",
   "nbconvert_exporter": "python",
   "pygments_lexer": "ipython2",
   "version": "2.7.11"
  }
 },
 "nbformat": 4,
 "nbformat_minor": 0
}
