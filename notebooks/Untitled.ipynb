{
 "cells": [
  {
   "cell_type": "code",
   "execution_count": 6,
   "metadata": {
    "collapsed": false
   },
   "outputs": [
    {
     "name": "stdout",
     "output_type": "stream",
     "text": [
      "G355A\n",
      "D403A\n",
      "F405A\n",
      "W407A\n",
      "W409A\n",
      "N404A\n",
      "H119A\n",
      "R240A\n",
      "K413A\n",
      "T218A\n",
      "E177A\n",
      "W399A\n",
      "K341A\n",
      "S331A\n",
      "S16A\n",
      "N163A\n",
      "M221A\n",
      "T352A\n",
      "Y295A\n",
      "N293A\n",
      "S17A\n",
      "N220A\n",
      "S14A\n",
      "Y294A\n",
      "E406A\n",
      "E353A\n",
      "F415A\n",
      "C167A\n",
      "L219A\n",
      "F72A\n",
      "E164A\n",
      "S400A\n",
      "T296A\n",
      "L171A\n",
      "M323A\n",
      "N354A\n",
      "E222A\n",
      "Q19A\n",
      "W325A\n",
      "H178A\n",
      "Y18A\n",
      "W120A\n",
      "W34A\n",
      "R76A\n"
     ]
    }
   ],
   "source": [
    "# color alanine scan by \"contribution to catalysis\" \n",
    "\n",
    "import pandas \n",
    "\n",
    "df = pandas.read_csv( '../clean_data/clean_for_pandas.csv', index_col='name' )\n",
    "df['designed'] = df.index.str[-1]\n",
    "ala = df[ ( df.designed == 'A' ) ]\n",
    "\n",
    "for index, series in ala.iterrows():\n",
    "    print index"
   ]
  },
  {
   "cell_type": "code",
   "execution_count": null,
   "metadata": {
    "collapsed": true
   },
   "outputs": [],
   "source": []
  }
 ],
 "metadata": {
  "kernelspec": {
   "display_name": "Python 2",
   "language": "python",
   "name": "python2"
  },
  "language_info": {
   "codemirror_mode": {
    "name": "ipython",
    "version": 2
   },
   "file_extension": ".py",
   "mimetype": "text/x-python",
   "name": "python",
   "nbconvert_exporter": "python",
   "pygments_lexer": "ipython2",
   "version": "2.7.11"
  }
 },
 "nbformat": 4,
 "nbformat_minor": 0
}
